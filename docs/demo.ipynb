{
 "cells": [
  {
   "cell_type": "markdown",
   "metadata": {},
   "source": [
    "# Bach Functionality Demonstration\n",
    "\n",
    "On this page we present a range of mostly synthetic models, set up to highlight individual\n",
    "functionalities of Bach. The demonstrations are divided across two sections, in @sec-free\n",
    "free-flowing basins are used, which can drain freely to a downstream basin. In @sec-level\n",
    "level controlled basins are used. Here there is no free drainage, but water levels are\n",
    "controlled by water management, such as pumping. Note that this is the only difference\n",
    "between both, so all other functionality equally applies to free draining and level\n",
    "controlled basins."
   ]
  },
  {
   "cell_type": "markdown",
   "metadata": {},
   "source": [
    "# Demonstration of Free Flowing LSW {#sec-free}\n",
    "\n",
    "The following examples demonstrate the impact of forcings and the user allocation functionality for a single free draining LSW. The examples are simulated with synthetic data to highlight the functionality of Bach, with the exception of example @sec-free-balance and @sec-free-comparison, which show the Bach prototype simulation of the Hupsel LSW."
   ]
  },
  {
   "cell_type": "code",
   "execution_count": null,
   "metadata": {},
   "outputs": [],
   "source": [
    "using Bach\n",
    "using Duet\n",
    "using Dates\n",
    "using TOML\n",
    "using Arrow\n",
    "using DataFrames\n",
    "import BasicModelInterface as BMI\n",
    "using SciMLBase\n",
    "using Graphs\n",
    "using CairoMakie\n",
    "using DataFrameMacros"
   ]
  },
  {
   "cell_type": "code",
   "execution_count": null,
   "metadata": {},
   "outputs": [],
   "source": [
    "# Load LSW Forcings Data\n",
    "lswforcing = DataFrame(Arrow.Table(\"../data/input/6/forcing.arrow\"));"
   ]
  },
  {
   "cell_type": "markdown",
   "metadata": {},
   "source": [
    "## No external forcing {#sec-free-no}\n",
    "\n",
    "This fictional free flowing LSW has no input or output forcing flux. The LSW empties according to the Volume-Area-Discharge relationship.\n",
    "The two examples below show the impact the profile has on the LSW drainage."
   ]
  },
  {
   "cell_type": "code",
   "execution_count": null,
   "metadata": {},
   "outputs": [],
   "source": [
    "case = \"emptying_sloping_profile\"\n",
    "\n",
    "## Set up\n",
    "config = Dict{String,Any}()\n",
    "lsw_id = 1\n",
    "config[\"lsw_ids\"] = [lsw_id]\n",
    "config[\"update_timestep\"] = 86400.0\n",
    "config[\"starttime\"] = Date(\"2022-01-01\")\n",
    "config[\"endtime\"] = Date(\"2022-02-01\")\n",
    "config[\"state\"] = DataFrame(location=lsw_id, volume=1e6)\n",
    "config[\"static\"] = DataFrame(location=lsw_id, target_level=NaN, target_volume=NaN, depth_surface_water=NaN, local_surface_water_type='V')\n",
    "config[\"forcing\"] = DataFrame(time=DateTime[], variable=Symbol[], location=Int[], value=Float64[])\n",
    "config[\"profile\"] = DataFrame(location=lsw_id, volume=[0.0, 1e6], area=[1e6, 1e6], discharge=[0.0, 1e0], level=[10.0, 11.0])\n",
    "\n",
    "## Simulate\n",
    "reg = BMI.initialize(Bach.Register, config)\n",
    "solve!(reg.integrator)\n",
    "\n",
    "## Plot results\n",
    "Duet.plot_series(reg, lsw_id)"
   ]
  },
  {
   "cell_type": "code",
   "execution_count": null,
   "metadata": {},
   "outputs": [],
   "source": [
    "case = \"emptying_steep_profile_Hupsel\"\n",
    "\n",
    "## Set up\n",
    "config = Dict{String,Any}()\n",
    "lsw_id = 1\n",
    "config[\"lsw_ids\"] = [lsw_id]\n",
    "config[\"update_timestep\"] = 86400.0\n",
    "config[\"starttime\"] = Date(\"2022-01-01\")\n",
    "config[\"endtime\"] = Date(\"2022-02-01\")\n",
    "config[\"state\"] = DataFrame(location=lsw_id, volume=1e6)\n",
    "config[\"static\"] = DataFrame(location=lsw_id, target_level=NaN, target_volume=NaN, depth_surface_water=NaN, local_surface_water_type='V')\n",
    "config[\"forcing\"] = DataFrame(time=DateTime[], variable=Symbol[], location=Int[], value=Float64[])\n",
    "# profile from Hupsel\n",
    "config[\"profile\"] = DataFrame(location =[1,1,1,1], volume=[0.0, 7427.697265625, 14855.39453125, 750197.375], area=[92152.2890625, 92152.2890625, 92152.2890625, 92152.2890625], discharge=[0.0, 0.0, 0.09600285440683365, 9.600285530090332], level= [18.909799575805664, 19.109800338745117, 19.309799194335938, 39.109798431396484])\n",
    "\n",
    "## Simulate\n",
    "reg = BMI.initialize(Bach.Register, config)\n",
    "solve!(reg.integrator)\n",
    "\n",
    "## Plot results\n",
    "Duet.plot_series(reg, lsw_id)"
   ]
  },
  {
   "cell_type": "markdown",
   "metadata": {},
   "source": [
    "## Precipitation forcing\n",
    "\n",
    "This fictional free flowing LSW is simulated with only the external forcing of synthetic precipitation data. The storage and the outflow respond to the preciptation as shown below."
   ]
  },
  {
   "cell_type": "code",
   "execution_count": null,
   "metadata": {},
   "outputs": [],
   "source": [
    "case = \"precipitation\"\n",
    "\n",
    "## Set up\n",
    "config[\"starttime\"] = Date(\"2019-01-01\")\n",
    "config[\"endtime\"] = Date(\"2020-01-01\")\n",
    "dummydata = @subset(lswforcing, :variable == Symbol(\"precipitation\"), :location == 151358, :time >= config[\"starttime\"], :time <= config[\"endtime\"])\n",
    "dummydata.location .= lsw_id\n",
    "config[\"forcing\"] = DataFrame(time=dummydata.time, variable=dummydata.variable, location=dummydata.location, value=dummydata.value * 3) # Exaggerated for demo\n",
    "config[\"profile\"] = DataFrame(location=lsw_id, volume=[0.0, 1e6], area=[1e6, 1e6], discharge=[0.0, 1e0], level=[10.0, 11.0])\n",
    "\n",
    "# Simulate\n",
    "reg = BMI.initialize(Bach.Register, config)\n",
    "solve!(reg.integrator)\n",
    "\n",
    "# Plot results\n",
    "Duet.plot_series(reg, lsw_id)"
   ]
  },
  {
   "cell_type": "markdown",
   "metadata": {},
   "source": [
    "## Evaporation forcing\n",
    "\n",
    "The LSW loses water from evaporation. Outflow occurs according to the relation as in @sec-free-no, but overall volume decline is faster rate due to additional loss from evaporation. Evaporation does not occur in an empty LSW.\n",
    "\n",
    "The second example shows the LSW with no simulated discharge, so that the only output is evaporation"
   ]
  },
  {
   "cell_type": "code",
   "execution_count": null,
   "metadata": {},
   "outputs": [],
   "source": [
    "case = \"evaporation\"\n",
    "\n",
    "## Set up\n",
    "lsw_id = 1\n",
    "config[\"starttime\"] = Date(\"2019-01-01\")\n",
    "config[\"endtime\"] = Date(\"2019-06-01\")\n",
    "dummydata = @subset(lswforcing, :variable == Symbol(\"evaporation\"), :location == 151358)\n",
    "config[\"forcing\"] = DataFrame(time=dummydata.time, variable=dummydata.variable, location=lsw_id, value=dummydata.value * 3)\n",
    "config[\"profile\"] = DataFrame(location=lsw_id, volume=[0.0, 1e6], area=[1e6, 1e6], discharge=[0.0, 1e0], level=[10.0, 11.0])\n",
    "\n",
    "## Simulate\n",
    "reg = BMI.initialize(Bach.Register, config)\n",
    "solve!(reg.integrator)\n",
    "\n",
    "## Plot results\n",
    "Duet.plot_series(reg, lsw_id)"
   ]
  },
  {
   "cell_type": "code",
   "execution_count": null,
   "metadata": {},
   "outputs": [],
   "source": [
    "case = \"evaporation2\"\n",
    "\n",
    "## Set up\n",
    "config = Dict{String,Any}()\n",
    "lsw_id = 1\n",
    "config[\"lsw_ids\"] = [lsw_id]\n",
    "config[\"update_timestep\"] = 86400.0\n",
    "starttime = DateTime(\"2019-01-01\")\n",
    "config[\"starttime\"] = DateTime(\"2019-01-01\")\n",
    "config[\"endtime\"] = Date(\"2019-06-01\")\n",
    "config[\"state\"] = DataFrame(location=lsw_id, volume=1e6)\n",
    "config[\"static\"] = DataFrame(location=lsw_id, target_level=NaN, target_volume=NaN,\n",
    "    depth_surface_water=NaN, local_surface_water_type='V')\n",
    "config[\"forcing\"] = DataFrame(time=starttime, variable=:evaporation, location=lsw_id,\n",
    "    value=1e-6)\n",
    "config[\"profile\"] = DataFrame(location=lsw_id, volume=[0.0, 1e6], area=[1e6, 1e6],\n",
    "    discharge=[0.0, 0.0], level=[10.0, 11.0])\n",
    "\n",
    "# Simulate\n",
    "reg = BMI.initialize(Bach.Register, config)\n",
    "solve!(reg.integrator)\n",
    "\n",
    "# Plot\n",
    "Duet.plot_series(reg, lsw_id)"
   ]
  },
  {
   "cell_type": "markdown",
   "metadata": {},
   "source": [
    "## Evaporation and precipitation forcings\n",
    "\n",
    "This example shows the evaporation and precipitation flux simulated together."
   ]
  },
  {
   "cell_type": "code",
   "execution_count": null,
   "metadata": {},
   "outputs": [],
   "source": [
    "case = \"evaporation_precipitation\"\n",
    "\n",
    "## Set up\n",
    "config[\"starttime\"] = Date(\"2019-01-01\")\n",
    "config[\"endtime\"] = Date(\"2019-06-01\")\n",
    "dummydata_e = @subset(lswforcing, :variable == Symbol(\"evaporation\"), :location == 151358)\n",
    "dummydata_p = @subset(lswforcing, :variable == Symbol(\"precipitation\"), :location == 151358)\n",
    "dummydata = append!(dummydata_e, dummydata_p);\n",
    "sort!(dummydata, [order(:time, rev=false)]);\n",
    "config[\"forcing\"] = DataFrame(time=dummydata.time, variable=dummydata.variable, location=lsw_id, value=dummydata.value * 3)\n",
    "\n",
    "## Simulate\n",
    "reg = BMI.initialize(Bach.Register, config)\n",
    "solve!(reg.integrator)\n",
    "\n",
    "## Plot\n",
    "Duet.plot_series(reg, lsw_id)"
   ]
  },
  {
   "cell_type": "markdown",
   "metadata": {},
   "source": [
    "## Infiltration \n",
    "\n",
    "Infiltration is a negative flux of the LSW. This example shows the LSW storage responding to an enhanced forcing of infiltration. There is no outflow simulated of this LSW, so that the only output is the infiltration."
   ]
  },
  {
   "cell_type": "code",
   "execution_count": null,
   "metadata": {},
   "outputs": [],
   "source": [
    "case = \"Infiltration\"\n",
    "\n",
    "## Set up\n",
    "config = Dict{String,Any}()\n",
    "lsw_id = 1\n",
    "config[\"lsw_ids\"] = [lsw_id]\n",
    "config[\"update_timestep\"] = 86400.0\n",
    "starttime = DateTime(\"2019-01-01\")\n",
    "config[\"starttime\"] = starttime\n",
    "config[\"endtime\"] = Date(\"2019-02-01\")\n",
    "config[\"state\"] = DataFrame(location=lsw_id, volume=1e6)\n",
    "config[\"static\"] = DataFrame(location=lsw_id, target_level=NaN, target_volume=NaN,\n",
    "    depth_surface_water=NaN, local_surface_water_type='V')\n",
    "config[\"forcing\"] = DataFrame(time=starttime, variable=:infiltration,\n",
    "    location=lsw_id, value=1.5e-6)\n",
    "config[\"profile\"] = DataFrame(location=lsw_id, volume=[0.0, 1e6], area=[1e6, 1e6],\n",
    "    discharge=[0.0, 0.0], level=[10.0, 11.0])\n",
    "\n",
    "## Simulate\n",
    "reg = BMI.initialize(Bach.Register, config)\n",
    "solve!(reg.integrator)\n",
    "\n",
    "## Plot results\n",
    "Duet.plot_series(reg, lsw_id)"
   ]
  },
  {
   "cell_type": "markdown",
   "metadata": {},
   "source": [
    "## Urban Runoff\n",
    "\n",
    "Urban runoff is a surface water input to the LSW. In case of the Netherlands, this is not calculated by MODFLOW but by the unsaturated zone model MetaSWAP.\n",
    "This example shows the LSW storage responding to the influx forcing of urban runoff."
   ]
  },
  {
   "cell_type": "code",
   "execution_count": null,
   "metadata": {},
   "outputs": [],
   "source": [
    "case = \"Urban Runoff\"\n",
    "\n",
    "## Set up\n",
    "config[\"starttime\"] = Date(\"2019-01-01\")\n",
    "config[\"endtime\"] = Date(\"2019-06-01\")\n",
    "dummydata = @subset(lswforcing, :variable == Symbol(\"urban_runoff\"), :location == 151358)\n",
    "dummydata.value *= 100 # Emphasised to highlight the functionality\n",
    "config[\"forcing\"] = DataFrame(time=dummydata.time, variable=dummydata.variable, location=lsw_id, value=dummydata.value)\n",
    "\n",
    "## Simulate\n",
    "reg = BMI.initialize(Bach.Register, config)\n",
    "solve!(reg.integrator)\n",
    "\n",
    "## Plot\n",
    "Duet.plot_series(reg, lsw_id)"
   ]
  },
  {
   "cell_type": "markdown",
   "metadata": {},
   "source": [
    "## Allocation to multiple users (agriculture and industry)\n",
    "\n",
    "The allocation is based upon demand and prioritisation of the users and the available water in the LSW. In a free flowing LSW only water from the LSW can be abstracted by the users: agriculture and industry.\n",
    "In this example there are two users. Agriculture has higher prioirty than industry, therefore when there is a shortage of available water, agriculture abstracts water before industry as demonstrated.\n",
    "\n",
    "When water supply is limited, the model follows “de verdringingsreeks” (water prioritization rules in times of water shortage in the Netherlands)."
   ]
  },
  {
   "cell_type": "markdown",
   "metadata": {},
   "source": [
    "<img src=\"https://user-images.githubusercontent.com/103200724/187085506-0ee79dd0-8023-42e8-9b05-4b9f433ae73e.jpg\" alt=\"Multi user\" title=\"Bach multi user allocation\" width=\"800\"/>"
   ]
  },
  {
   "cell_type": "markdown",
   "metadata": {},
   "source": [
    "## Water balance of a single LSW (Hupsel) {#sec-free-balance}\n",
    "\n",
    "This simulation is for the LSW Hupsel. The LSW is a free flowing LSW."
   ]
  },
  {
   "cell_type": "markdown",
   "metadata": {},
   "source": [
    "<img src=\"https://user-images.githubusercontent.com/103200724/187200598-edae91ad-8140-466a-b06e-3289babeee27.png\" alt=\"Hupsel\" title=\"Hupsel Water Balance\" width=\"800\"/>"
   ]
  },
  {
   "cell_type": "markdown",
   "metadata": {},
   "source": [
    "## Water balance comparison Hupsel {#sec-free-comparison}\n",
    "\n",
    "The following two figures show Hupsel LSW water balance for the Bach prototype compared to the water balance simulated by Mozart, the precursor to Bach.\n",
    "The figures show a good agreement between the two simulations."
   ]
  },
  {
   "cell_type": "markdown",
   "metadata": {},
   "source": [
    "<img src=\"https://user-images.githubusercontent.com/4471859/179259174-0caccd4a-c51b-449e-873c-17d48cfc8870.png\" alt=\"Mozart - Bach Water Balance Comparison\" title=\"Mozart - Bach Water Balance Comparison\" width=\"800\"/>\n",
    "\n",
    "<img src=\"https://user-images.githubusercontent.com/103200724/186892581-557e2a0a-7b17-47cc-b65c-a2f7e3e30b66.PNG\" alt=\"Mozart - Bach Storage Comparison\" title=\"Mozart - Bach Water Balance Comparison\" width=\"800\"/>"
   ]
  },
  {
   "cell_type": "markdown",
   "metadata": {},
   "source": [
    "<img src=\"https://user-images.githubusercontent.com/103200724/186892581-557e2a0a-7b17-47cc-b65c-a2f7e3e30b66.PNG\" alt=\"\" title=\"Mozart - Bach Storage Comparison\" width=\"800\"/>"
   ]
  },
  {
   "cell_type": "markdown",
   "metadata": {},
   "source": [
    "## Bifurcation\n",
    "\n",
    "To handle bifurcations, we want to be able to model them using a fraction. To implement this\n",
    "we use a separate `Bifurcation` node, that has an inflow `a`, and outflows `b` and `c`.\n",
    "The fraction `f` of the inflow coming into `a` will go to `b`, the rest will go to `c`.\n",
    "These fractions are defined for every link in the network. Only for nodes that have multiple\n",
    "downstream nodes, will they not be one. When constructing a network with such a bifurcation,\n",
    "the bifurcation nodes are automatically inserted. Below we show the result of a small\n",
    "simulation on three LSW IDs. From ID 151380 50% flows to 151392 and 50% to 151318."
   ]
  },
  {
   "cell_type": "code",
   "execution_count": null,
   "metadata": {},
   "outputs": [],
   "source": [
    "case = \"Bifurcation\"\n",
    "\n",
    "## Set up\n",
    "config = Dict{String,Any}()\n",
    "lsw_ids = [151380,151392,151318]\n",
    "config[\"lsw_ids\"] = lsw_ids\n",
    "config[\"update_timestep\"] = 86400.0\n",
    "config[\"starttime\"] = DateTime(\"2022-01-01\")\n",
    "config[\"endtime\"] = DateTime(\"2022-02-01\")\n",
    "config[\"state\"] = DataFrame(location=lsw_ids, volume=[1e6,0.0,0.0])\n",
    "config[\"static\"] = DataFrame(location=lsw_ids, target_level=NaN, target_volume=NaN, depth_surface_water=NaN, local_surface_water_type='V')\n",
    "config[\"forcing\"] = DataFrame(time=DateTime[], variable=Symbol[], location=Int[], value=Float64[])\n",
    "config[\"profile\"] = DataFrame(location=[151318,151318,151380,151380,151392,151392], volume=[0.0, 1e6, 0.0, 1e6, 0.0, 1e6], area=1e6, discharge=[0.0, 1e0, 0.0, 1e0, 0.0, 1e0], level=[10.0, 11.0, 10.0, 11.0, 10.0, 11.0])\n",
    "config[\"network_path\"] = \"../data/input/6/network.ply\"\n",
    "\n",
    "## Simulate\n",
    "reg = BMI.initialize(Bach.Register, config)\n",
    "solve!(reg.integrator)\n",
    "\n",
    "## Plot results\n",
    "fig = Figure()\n",
    "ylabel = \"flow rate / m³ s⁻¹\"\n",
    "timespan = datetime2unix(config[\"starttime\"])..datetime2unix(config[\"endtime\"])\n",
    "ax = Duet.time!(Axis(fig[1, 1]; ylabel), timespan.left, timespan.right)\n",
    "\n",
    "name = Symbol(:bifurcation_, 151380)\n",
    "lines!(ax, timespan, interpolator(reg, Symbol(name, :₊a₊Q)), label = \"bifurcation inflow\")\n",
    "lines!(ax, timespan, interpolator(reg, Symbol(name, :₊b₊Q)), label = \"bifurcation outflow 1\")\n",
    "lines!(ax, timespan, interpolator(reg, Symbol(name, :₊c₊Q)), label = \"bifurcation outflow 2\", linestyle=:dashdot)\n",
    "fig[1, 2] = Legend(fig, ax, \"\", framevisible = true)\n",
    "hidexdecorations!(ax, grid = false)\n",
    "fig"
   ]
  },
  {
   "cell_type": "markdown",
   "metadata": {},
   "source": [
    "# Demonstration of a Level Controlled LSW {#sec-level}\n",
    "\n",
    "The following examples demonstrate the water management and user allocation functionality for a level controlled LSW. Polder de Tol is used as the example for these demonstrations."
   ]
  },
  {
   "cell_type": "markdown",
   "metadata": {},
   "source": [
    "## Single Level Controlled LSW (Tol)\n",
    "\n",
    "This simulation is for the LSW De Tol. The LSW is a level controlled meaning that water is allocated to maintain water levels at a target level. "
   ]
  },
  {
   "cell_type": "markdown",
   "metadata": {},
   "source": [
    "<img src=\"https://user-images.githubusercontent.com/103200724/187208026-22b39c44-03c4-4694-8f82-79a0fa52551e.png\" alt=\"tol\" title=\"Tol Water Balance\" width=\"800\"/>\n",
    "\n",
    "\n"
   ]
  },
  {
   "cell_type": "markdown",
   "metadata": {},
   "source": [
    "## De Tol water balance comparison with Mozart\n",
    "\n",
    "The following two figures show De Tol LSW water balance for the Bach prototype compared to the water balance simulated by Mozart, the precursor to Bach.\n",
    "The figures show a good agreement between the two simulations"
   ]
  },
  {
   "cell_type": "markdown",
   "metadata": {},
   "source": [
    "<img src=\"https://user-images.githubusercontent.com/103200724/186892605-db217b55-13d6-48bb-a78e-3bbf4acc70c1.PNG\" alt=\"Mozart - Bach Water Balance Comparison\" title=\"Mozart - Bach Water Balance Comparison\" width=\"800\"/>\n",
    "\n",
    "<img src=\"https://user-images.githubusercontent.com/103200724/186892628-7cb0d3cd-9439-46cb-b6b8-9908d9c7e09a.PNG\" alt=\"Mozart - Bach Water Balance Comparison\" title=\"Mozart - Bach Water Balance Comparison\" width=\"800\"/>"
   ]
  }
 ],
 "metadata": {
  "kernelspec": {
   "display_name": "Julia 1.8.0",
   "language": "julia",
   "name": "julia-1.8"
  },
  "language_info": {
   "file_extension": ".jl",
   "mimetype": "application/julia",
   "name": "julia",
   "version": "1.8.0"
  }
 },
 "nbformat": 4,
 "nbformat_minor": 2
}
