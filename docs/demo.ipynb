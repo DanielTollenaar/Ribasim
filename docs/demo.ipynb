{
 "cells": [
  {
   "cell_type": "markdown",
   "metadata": {},
   "source": [
    "## Bach Functionality Demonstration"
   ]
  },
  {
   "cell_type": "markdown",
   "metadata": {},
   "source": [
    "### 1. Demonstration of Free Flowing LSW\n",
    "\n",
    "The following examples demonstrate the impact of forcings and the user allocation functionality for a single free draining LSW. The simulations are simulated with synthetic data to highlight the functionality of Bach, with the exception of example 1.9  and 1.10 which show the Bach prototype simulation of the Hupsel LSW.\n",
    "\n",
    "- 1.1     No external forcing\n",
    "- 1.2     Precipitation\n",
    "- 1.3     Evaporation\n",
    "- 1.4     Precipitation and evaporation\n",
    "- 1.5     Infiltration\n",
    "- 1.6     Urban Runoff\n",
    "- 1.7     Allocation to a single user\n",
    "- 1.8     Allocation to multiple users\n",
    "- 1.9     Hupsel water balance (single LSW)\n",
    "- 1.10    Hupsel water balance comparison with Mozart\n",
    "\n",
    "### 2. Demonstration of a Level Controlled LSW\n",
    "\n",
    "The following examples demonstrate the water management and user allocation functionality for a level controlled LSW. The simulations are simulated with synthetic data to highlight the functionality of Bach, with the exception of example 2.1 and 2.3 which show the Bach prototype simulation of the Tol LSW.\n",
    "\n",
    "- 2.1     Tol water balance (single LSW)\n",
    "- 2.2     Level Control and multiple users\n",
    "- 2.3     Tol water balance comparison with Mozart."
   ]
  },
  {
   "cell_type": "code",
   "execution_count": null,
   "metadata": {},
   "outputs": [],
   "source": [
    "# Set up for demo simulations\n",
    "\n",
    "# Load Julia Libraries\n",
    "using Bach\n",
    "using Duet\n",
    "using Dates\n",
    "using TOML\n",
    "using Arrow\n",
    "using DataFrames\n",
    "import BasicModelInterface as BMI\n",
    "using SciMLBase\n",
    "using Graphs\n",
    "using GLMakie\n",
    "using CairoMakie\n",
    "using Plots\n",
    "using DataFrameMacros"
   ]
  },
  {
   "cell_type": "code",
   "execution_count": null,
   "metadata": {},
   "outputs": [],
   "source": [
    "\n",
    "# Load TOML\n",
    "config = TOML.parsefile(\"../run.toml\");\n",
    "# Load LSW Forcings Data\n",
    "lswforcing = DataFrame(Arrow.Table(\"../data/input/6/forcing.arrow\"));"
   ]
  },
  {
   "cell_type": "markdown",
   "metadata": {},
   "source": [
    "#### 1.1 No external forcing\n",
    "\n",
    "This fictional free flowing LSW has no input or output forcing flux. The LSW empties according to the Volume-Area_Discharge relationship.\n"
   ]
  },
  {
   "cell_type": "code",
   "execution_count": null,
   "metadata": {},
   "outputs": [],
   "source": [
    "case = \"emptying_sloping_profile\"\n",
    "## Code\n",
    "## Set up\n",
    "democonfig = Dict{String,Any}()\n",
    "lsw_id = 1\n",
    "democonfig[\"lsw_ids\"] = [lsw_id]\n",
    "democonfig[\"update_timestep\"] = 86400.0\n",
    "democonfig[\"starttime\"] = Date(\"2022-01-01\")\n",
    "democonfig[\"endtime\"] = Date(\"2022-02-01\")\n",
    "democonfig[\"state\"] = DataFrame(location=lsw_id, volume=1e6)\n",
    "democonfig[\"static\"] = DataFrame(location=lsw_id, target_level=NaN, target_volume=NaN, depth_surface_water=NaN, local_surface_water_type='V')\n",
    "democonfig[\"forcing\"] = DataFrame(time=DateTime[], variable=Symbol[], location=Int[], value=Float64[])\n",
    "democonfig[\"profile\"] = DataFrame(location=lsw_id, volume=[0.0, 1e6], area=[1e6, 1e6], discharge=[0.0, 1e0], level=[10.0, 11.0])\n",
    "\n",
    "## Simulate\n",
    "reg = BMI.initialize(Bach.Register, democonfig)\n",
    "solve!(reg.integrator);\n",
    "# println(reg)\n",
    "\n",
    "## Plot Results\n",
    "\n",
    "fig_1a = Duet.plot_series(reg, lsw_id)\n",
    "display(fig_1a)"
   ]
  },
  {
   "cell_type": "markdown",
   "metadata": {},
   "source": [
    "### 1.2 Precipitation forcing\n",
    "\n",
    "This fictional free flowing LSW is simulated with only the external forcing of synthetic precipitation data. The storage and the outflow respond to the preciptation as shown below."
   ]
  },
  {
   "cell_type": "code",
   "execution_count": null,
   "metadata": {},
   "outputs": [],
   "source": [
    "case = \"precipitation\"\n",
    "## Code\n",
    "## Set up\n",
    "democonfig[\"starttime\"] = Date(\"2019-01-01\")\n",
    "democonfig[\"endtime\"] = Date(\"2020-01-01\")\n",
    "dummydata = @subset(lswforcing, :variable == Symbol(\"precipitation\"), :location == 151358, :time >= config[\"starttime\"], :time <= config[\"endtime\"])\n",
    "dummydata.location .= lsw_id\n",
    "democonfig[\"forcing\"] = DataFrame(time=dummydata.time, variable=dummydata.variable, location=dummydata.location, value=dummydata.value * 3) # Exaggerated for demo\n",
    "democonfig[\"profile\"] = DataFrame(location=lsw_id, volume=[0.0, 1e6], area=[1e6, 1e6], discharge=[0.0, 1e0], level=[10.0, 11.0])\n",
    "\n",
    "# Simulate and Plot\n",
    "reg = BMI.initialize(Bach.Register, democonfig)\n",
    "solve!(reg.integrator)  # solve it until the end\n",
    "# println(reg)\n",
    "\n",
    "# Plot\n",
    "fig_2 = Duet.plot_series(reg, lsw_id)\n",
    "display(fig_2)\n"
   ]
  },
  {
   "cell_type": "markdown",
   "metadata": {},
   "source": [
    "### 1.3 Evaporation forcing\n",
    "\n",
    "The LSW loses water from evaporation. Outflow occurs according to the VAD as in example 1.1, but overall volume decline is faster rate due to additional loss from evaporation. Evaporation does not occur in an empty LSW.\n",
    "\n",
    "The second example shows the LSW with no simulated discharge, so that the only output is evaporation"
   ]
  },
  {
   "cell_type": "code",
   "execution_count": null,
   "metadata": {},
   "outputs": [],
   "source": [
    "case = \"evaporation\"\n",
    "## Code\n",
    "## Set up\n",
    "lsw_id = 1\n",
    "democonfig[\"starttime\"] = Date(\"2019-01-01\")\n",
    "democonfig[\"endtime\"] = Date(\"2019-06-01\")\n",
    "dummydata = @subset(lswforcing, :variable == Symbol(\"evaporation\"), :location == 151358)\n",
    "democonfig[\"forcing\"] = DataFrame(time=dummydata.time, variable=dummydata.variable, location=lsw_id, value=dummydata.value * 3)\n",
    "democonfig[\"profile\"] = DataFrame(location=lsw_id, volume=[0.0, 1e6], area=[1e6, 1e6], discharge=[0.0, 1e0], level=[10.0, 11.0])\n",
    "\n",
    "## Simulate\n",
    "reg = BMI.initialize(Bach.Register, democonfig)\n",
    "solve!(reg.integrator)  # solve it until the end\n",
    "# println(reg)\n",
    "\n",
    "## Plot\n",
    "fig_3 = Duet.plot_series(reg, lsw_id)\n",
    "display(fig_3)\n"
   ]
  },
  {
   "cell_type": "code",
   "execution_count": null,
   "metadata": {},
   "outputs": [],
   "source": [
    "\n",
    "case = \"evaporation2\"\n",
    "# Code\n",
    "## Set up\n",
    "\n",
    "config = Dict{String,Any}()\n",
    "lsw_id = 1\n",
    "config[\"lsw_ids\"] = [lsw_id]\n",
    "config[\"update_timestep\"] = 86400.0\n",
    "# config[\"saveat\"] = 86400.0\n",
    "starttime = DateTime(\"2019-01-01\")\n",
    "config[\"starttime\"] = starttime\n",
    "config[\"endtime\"] = Date(\"2019-06-01\")\n",
    "config[\"state\"] = DataFrame(location=lsw_id, volume=1e6)\n",
    "config[\"static\"] = DataFrame(location=lsw_id, target_level=NaN, target_volume=NaN,\n",
    "    depth_surface_water=NaN, local_surface_water_type='V')\n",
    "config[\"forcing\"] = DataFrame(time=starttime, variable=:evaporation, location=lsw_id,\n",
    "    value=1e-6)\n",
    "config[\"profile\"] = DataFrame(location=lsw_id, volume=[0.0, 1e6], area=[1e6, 1e6],\n",
    "    discharge=[0.0, 0.0], level=[10.0, 11.0])\n",
    "\n",
    "# Simulate\n",
    "reg = BMI.initialize(Bach.Register, config)\n",
    "solve!(reg.integrator)  # solve it until the end\n",
    "println(reg)\n",
    "\n",
    "# Plot\n",
    "fig_s = Duet.plot_series(reg, lsw_id)\n",
    "display(fig_s)"
   ]
  },
  {
   "cell_type": "markdown",
   "metadata": {},
   "source": [
    "### 1.4 Evaporation and precipitation forcings\n",
    "\n",
    "This example shows the evaporation and precipitation flux simulated together\n"
   ]
  },
  {
   "cell_type": "code",
   "execution_count": null,
   "metadata": {},
   "outputs": [],
   "source": [
    "case = \"evaporation_precipitation\"\n",
    "## Code\n",
    "## Set up\n",
    "democonfig[\"starttime\"] = Date(\"2019-01-01\")\n",
    "democonfig[\"endtime\"] = Date(\"2019-06-01\")\n",
    "dummydata_e = @subset(lswforcing, :variable == Symbol(\"evaporation\"), :location == 151358)\n",
    "dummydata_p = @subset(lswforcing, :variable == Symbol(\"precipitation\"), :location == 151358)\n",
    "dummydata = append!(dummydata_e, dummydata_p);\n",
    "sort!(dummydata, [order(:time, rev=false)]);\n",
    "democonfig[\"forcing\"] = DataFrame(time=dummydata.time, variable=dummydata.variable, location=lsw_id, value=dummydata.value * 3)\n",
    "\n",
    "## Simulate\n",
    "reg = BMI.initialize(Bach.Register, democonfig)\n",
    "solve!(reg.integrator)  # solve it until the end\n",
    "# println(reg)\n",
    "\n",
    "## Plot\n",
    "fig_4 = Duet.plot_series(reg, lsw_id)\n",
    "display(fig_4)"
   ]
  },
  {
   "cell_type": "markdown",
   "metadata": {},
   "source": [
    "#### 1.5 Infiltration \n",
    "\n",
    "Infiltration is a negative flux of the LSW. This example shows the LSW storage responding to an enhanced forcing of infiltration. There is no outflow simulated of this LSW, so that the only output is the infiltration\n",
    "\n"
   ]
  },
  {
   "cell_type": "code",
   "execution_count": null,
   "metadata": {},
   "outputs": [],
   "source": [
    "case = \"Infiltration\"\n",
    "## Code\n",
    "## Set up\n",
    "config = Dict{String,Any}()\n",
    "lsw_id = 1\n",
    "config[\"lsw_ids\"] = [lsw_id]\n",
    "config[\"update_timestep\"] = 86400.0\n",
    "starttime = DateTime(\"2019-01-01\")\n",
    "config[\"starttime\"] = starttime\n",
    "config[\"endtime\"] = Date(\"2019-02-01\")\n",
    "config[\"state\"] = DataFrame(location=lsw_id, volume=1e6)\n",
    "config[\"static\"] = DataFrame(location=lsw_id, target_level=NaN, target_volume=NaN,\n",
    "    depth_surface_water=NaN, local_surface_water_type='V')\n",
    "config[\"forcing\"] = DataFrame(time=starttime, variable=:infiltration,\n",
    "    location=lsw_id, value=1.5e-6)\n",
    "config[\"profile\"] = DataFrame(location=lsw_id, volume=[0.0, 1e6], area=[1e6, 1e6],\n",
    "    discharge=[0.0, 0.0], level=[10.0, 11.0])\n",
    "## Simulate\n",
    "reg = BMI.initialize(Bach.Register, config)\n",
    "solve!(reg.integrator);  # solve it until the end\n",
    "\n",
    "## Plot\n",
    "fig_5 = Duet.plot_series(reg, lsw_id)\n",
    "display(fig_5)"
   ]
  },
  {
   "cell_type": "markdown",
   "metadata": {},
   "source": [
    "#### 1.6 Urban Runoff\n",
    "\n",
    "Urban runoff is a surface water input to the LSW. This example shows the LSW storage responding to the influx forcing of urban runoff."
   ]
  },
  {
   "cell_type": "code",
   "execution_count": null,
   "metadata": {},
   "outputs": [],
   "source": [
    "case = \"Urban Runoff\"\n",
    "## Code\n",
    "## Set up\n",
    "democonfig[\"starttime\"] = Date(\"2019-01-01\")\n",
    "democonfig[\"endtime\"] = Date(\"2019-06-01\")\n",
    "dummydata = @subset(lswforcing, :variable == Symbol(\"urban_runoff\"), :location == 151358)\n",
    "dummydata.value *= 3 # Emphasised to highlight the functionality\n",
    "democonfig[\"forcing\"] = DataFrame(time=dummydata.time, variable=dummydata.variable, location=lsw_id, value=dummydata.value * 3)\n",
    "\n",
    "## Simulate\n",
    "reg = BMI.initialize(Bach.Register, democonfig)\n",
    "solve!(reg.integrator)  # solve it until the end\n",
    "#println(reg)\n",
    "\n",
    "## Plot\n",
    "fig_6 = Duet.plot_series(reg, lsw_id)\n",
    "display(fig_6)\n"
   ]
  },
  {
   "cell_type": "markdown",
   "metadata": {},
   "source": [
    "### 1.7 Allocation to a single user (agriculture)\n",
    "\n",
    "In this example, the Hupsel LSW is simulated with synthetic agricultural demand to demonstrate the Bach functionality to allocate to a General User"
   ]
  },
  {
   "cell_type": "code",
   "execution_count": null,
   "metadata": {},
   "outputs": [],
   "source": [
    "case = \"SingleUser\"\n",
    "## Code\n",
    "## Set up\n",
    "democonfig = TOML.parsefile(\"../run.toml\");\n",
    "lsw_id = 151358\n",
    "democonfig[\"lsw_id\"] = [lsw_id] # Hupsel\n",
    "democonfig[\"starttime\"] = Date(\"2019-01-01\")\n",
    "democonfig[\"endtime\"] = Date(\"2019-06-01\")\n",
    "# Clear forcing data for agriculture and replace with synthetic data\n",
    "dummydata = lswforcing\n",
    "dummydata = @subset(dummydata :variable != Symbol(\"demand_agriculture\") )\n",
    "dummydata_demagric = @subset(lswforcing, :variable ==Symbol(\"demand_agriculture\") ,value: = 0.2, :location == 131183)\n",
    "dummydata = append!(dummydata, dummydata_demagric)\n",
    "democonfig[\"forcing\"] = DataFrame(time=dummydata.time, variable=dummydata.variable, location=lsw_id, value=dummydata.value)\n",
    "\n",
    "## Simulate\n",
    "reg = BMI.initialize(Bach.Register, democonfig)\n",
    "solve!(reg.integrator);  # solve it until the end\n",
    "println(reg)\n",
    "\n",
    "## Plot\n",
    "fig_6 = Duet.plot_series(reg, lsw_id)\n",
    "display(fig_6)\n",
    "\n",
    "# Duet.plot_genuser_series(reg, lsw_id)"
   ]
  },
  {
   "cell_type": "markdown",
   "metadata": {},
   "source": [
    "### 1.8 Allocation to multiple users (agriculture and industry)\n",
    "\n",
    "The allcoation is based upon demand and prioritisation of the users and the available water in the LSW. In a free flowing LSW only water from the LSW can be abstracted by the users: agriculture and industry.\n",
    "In this example there are two users. Agriculture has higher prioirty than industry, therefore when there is a shortage of available water, agriculture abstracts water before industry as demonstrated."
   ]
  },
  {
   "cell_type": "code",
   "execution_count": null,
   "metadata": {},
   "outputs": [],
   "source": [
    "case = \"MultipleUser\"\n",
    "## Set up\n",
    "democonfig[\"starttime\"] = Date(\"2019-01-01\")\n",
    "democonfig[\"endtime\"] = Date(\"2019-06-01\")\n",
    "dummydata_dem_a.value .= 0.2 # To emphasise impact of abstraction\n",
    "dummydata_prio_a = DataFrame(time=democonfig[\"starttime\"], variable=Symbol(\"priority_industry\"), location=lsw_id, value=1.0)\n",
    "dummydata_dem_i = @subset(lswforcing, :variable == Symbol(\"demand_industry\"), :location == 131183, :time >= democonfig[\"starttime\"], :time <= democonfig[\"endtime\"])\n",
    "dummydata_dem_i.value *= dummydata_dem_a.value .* 0.5 # Industry demand at 50% of agriculture\n",
    "dummydata_prio_i = DataFrame(time=democonfig[\"starttime\"], variable=Symbol(\"priority_industry\"), location=lsw_id, value=2.0)\n",
    "dummydata = append!(dummydata_dem_a, dummydata_dem_i, dummydata_prio_a, dummydata_prio_i)\n",
    "democonfig[\"forcing\"] = DataFrame(time=dummydata.time, variable=dummydata.variable, location=lsw_id, value=dummydata.value)\n",
    "\n",
    "## Simulate\n",
    "reg = BMI.initialize(Bach.Register, democonfig)\n",
    "solve!(reg.integrator)  # solve it until the end\n",
    "# println(reg)\n",
    "\n",
    "## Plot\n",
    "# fig_7 = plot_genuser_series(reg, lsw_id, lswusers = [\"agric\", \"indus\"]) #need to update allusers function \n",
    "# display(fig_7)\n"
   ]
  },
  {
   "cell_type": "markdown",
   "metadata": {},
   "source": [
    "### 1. 9 Water balance of a single LSW (Hupsel)\n",
    "\n",
    "Simulation 1.9 is for the LSW Hupsel. The LSW is a free flowing LSW.\n"
   ]
  },
  {
   "cell_type": "code",
   "execution_count": null,
   "metadata": {},
   "outputs": [],
   "source": [
    "## Code\n",
    "## Set up\n",
    "config = TOML.parsefile(\"run.toml\")\n",
    "config[\"lsw_id\"] = [151358] # Hupsel. Disconnected\n",
    "\n",
    "## Simulate\n",
    "reg = BMI.initialize(Bach.Register, config)\n",
    "println(\"solve! \", Time(now()))\n",
    "@time solve!(reg.integrator)  # solve it until the end\n",
    "println(reg)\n",
    "\n",
    "# Plot\n",
    "fig_9 = Duet.plot_series(reg, config[\"lsw_ids\"][1]; level=true)\n",
    "display(fig_9)"
   ]
  },
  {
   "cell_type": "markdown",
   "metadata": {},
   "source": [
    "### 1.10 Water balance comparison Hupsel\n",
    "\n",
    "The following two figures show Hupsel LSW water balance for the Bach prototype compared to the water balance simulated by Mozart, the precursor to Bach.\n",
    "The figures show a good agreement between the two simulations"
   ]
  },
  {
   "cell_type": "markdown",
   "metadata": {},
   "source": [
    "<img src=\"https://user-images.githubusercontent.com/4471859/179259174-0caccd4a-c51b-449e-873c-17d48cfc8870.png\" alt=\"Mozart - Bach Water Balance Comparison\" title=\"Mozart - Bach Water Balance Comparison\" width=\"800\"/>\n",
    "\n",
    "<img src=\"https://user-images.githubusercontent.com/103200724/186892581-557e2a0a-7b17-47cc-b65c-a2f7e3e30b66.PNG\" alt=\"Mozart - Bach Storage Comparison\" title=\"Mozart - Bach Water Balance Comparison\" width=\"800\"/>\n"
   ]
  },
  {
   "cell_type": "markdown",
   "metadata": {},
   "source": [
    "<img src=\"Mozart_comparison_Hupsel_2.PNG\" alt=\"\" title=\"Mozart - Bach Storage Comparison\" width=\"800\"/>"
   ]
  },
  {
   "cell_type": "markdown",
   "metadata": {},
   "source": [
    "### 2.1 Single Level Controlled LSW (Tol)\n",
    "\n",
    "Simulation 2.1 is for the LSW Tol. The LSW is a level controlled meaning that water is allocated to maintain water levels at a target level. This simulation demonstrates the LSW with the Bach prototype."
   ]
  },
  {
   "cell_type": "code",
   "execution_count": null,
   "metadata": {},
   "outputs": [],
   "source": [
    "## Code\n",
    "case = \"tol\"\n",
    "# Set Up\n",
    "config = TOML.parsefile(\"run.toml\")\n",
    "config[\"lsw_id\"] = [200164] # Tol\n",
    "# Simulate\n",
    "reg = BMI.initialize(Bach.Register, config)\n",
    "println(\"solve! \", Time(now()))\n",
    "@time solve!(reg.integrator)  # solve it until the end\n",
    "println(reg)\n",
    "# Plot\n",
    "fig_12 = Duet.plot_series(reg, config[\"lsw_ids\"][1]; level=true)\n",
    "display(fig12)\n",
    "\n",
    "# fig_13 = Duet.plot_wm_series(reg, config[\"lsw_ids\"][1]; level = true)\n",
    "# display(fig_13)\n"
   ]
  },
  {
   "cell_type": "markdown",
   "metadata": {},
   "source": [
    "### 2.2 Single Level Controlled LSW with additional General Users\n",
    "\n",
    "Simulation 2.2 is for a hypothetical level controlled LSW situation. This level control LSW has an additional users (agriculture) with a lower priority than the level control. In this scenario water is allocated to the users irder of priority, first based on the level of the LSW with respect to the target level, and additionally with water from the external network when required. The LSW is a level controlled meaning that water is allocated to maintain water levels at a target level. "
   ]
  },
  {
   "cell_type": "code",
   "execution_count": null,
   "metadata": {},
   "outputs": [],
   "source": [
    "case = \"LevelControl_MultipleUsers\"\n",
    "## Set up\n",
    "democonfig = TOML.parsefile(\"run.toml\")\n",
    "democonfig[\"lsw_id\"] = [200164] # Take forcings from Tol\n",
    "democonfig[\"starttime\"] = Date(\"2019-01-01\")\n",
    "democonfig[\"endtime\"] = Date(\"2019-06-01\")\n",
    "# Add in synthetic data for demand\n",
    "forcings = lswforcing\n",
    "# TODO create dummy data for water management and agric scenario to include\n",
    "\n",
    "# democonfig[\"forcing\"] = DataFrame(time=dummydata.time, variable=dummydata.variable, location=lsw_id, value=dummydata.value)\n",
    "\n",
    "## Simulate\n",
    "reg = BMI.initialize(Bach.Register, democonfig)\n",
    "solve!(reg.integrator)  # solve it until the end\n",
    "# println(reg)\n",
    "\n",
    "## Plot\n",
    "# fig_14 = plot_user_wm_series(reg, lsw_id, lswusers = [\"agric\", \"indus\"])\n",
    "# display(fig_14)\n"
   ]
  },
  {
   "cell_type": "markdown",
   "metadata": {},
   "source": [
    "### 2.3     Tol water balance comparison with Mozart\n",
    "\n",
    "The following two figures show Tol LSW water balance for the Bach prototype compared to the water balance simulated by Mozart, the precursor to Bach.\n",
    "The figures show a good agreement between the two simulations"
   ]
  },
  {
   "cell_type": "markdown",
   "metadata": {},
   "source": [
    "<img src=\"https://user-images.githubusercontent.com/103200724/186892605-db217b55-13d6-48bb-a78e-3bbf4acc70c1.PNG\" alt=\"Mozart - Bach Water Balance Comparison\" title=\"Mozart - Bach Water Balance Comparison\" width=\"800\"/>\n",
    "\n",
    "<img src=\"https://user-images.githubusercontent.com/103200724/186892628-7cb0d3cd-9439-46cb-b6b8-9908d9c7e09a.PNG\" alt=\"Mozart - Bach Water Balance Comparison\" title=\"Mozart - Bach Water Balance Comparison\" width=\"800\"/>"
   ]
  },
  {
   "cell_type": "markdown",
   "metadata": {},
   "source": [
    "<img src=\"Mozart_comparison_Tol_2.PNG\" alt=\"\" title=\"Mozart - Bach Storage Comparison\" width=\"800\"/>"
   ]
  }
 ],
 "metadata": {
  "kernelspec": {
   "display_name": "Julia 1.8.0",
   "language": "julia",
   "name": "julia-1.8"
  },
  "language_info": {
   "file_extension": ".jl",
   "mimetype": "application/julia",
   "name": "julia",
   "version": "1.8.0"
  }
 },
 "nbformat": 4,
 "nbformat_minor": 2
}
